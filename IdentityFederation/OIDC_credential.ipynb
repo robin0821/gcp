{
 "cells": [
  {
   "cell_type": "code",
   "execution_count": 3,
   "metadata": {},
   "outputs": [
    {
     "data": {
      "text/plain": [
       "True"
      ]
     },
     "execution_count": 3,
     "metadata": {},
     "output_type": "execute_result"
    }
   ],
   "source": [
    "import requests\n",
    "from dotenv import load_dotenv\n",
    "import os\n",
    "import json\n",
    "load_dotenv()"
   ]
  },
  {
   "cell_type": "markdown",
   "metadata": {},
   "source": [
    "# 1. Exchange token and access GCP resources through API"
   ]
  },
  {
   "cell_type": "code",
   "execution_count": 41,
   "metadata": {},
   "outputs": [],
   "source": [
    "TENANT_ID = os.getenv(\"TENANT_ID\")\n",
    "CLIENT_ID = os.getenv(\"CLIENT_ID\")\n",
    "CLIENT_SECRET = os.getenv(\"CLIENT_SECRET\")\n",
    "PROJECT_NUMBER = os.getenv(\"PROJECT_NUMBER\")\n",
    "PROJECT_ID = os.getenv(\"PROJECT_ID\")\n",
    "SERVICE_ACCOUNT_EMAIL = os.getenv(\"SERVICE_ACCOUNT_EMAIL\")\n",
    "POOL_ID = os.getenv(\"POOL_ID\")\n",
    "PROVIDER_ID = os.getenv(\"PROVIDER_ID\")"
   ]
  },
  {
   "cell_type": "code",
   "execution_count": 7,
   "metadata": {},
   "outputs": [],
   "source": [
    "azure_token_issuer_url = \"https://login.microsoftonline.com/{tenant_id}/oauth2/v2.0/token\".format(tenant_id=TENANT_ID)"
   ]
  },
  {
   "cell_type": "markdown",
   "metadata": {},
   "source": [
    "#### Get access_token from Azure Entra ID first. (Note: please register app via Azure and create client_secret if Azure Metadata Server is not accessiblee)"
   ]
  },
  {
   "cell_type": "code",
   "execution_count": 8,
   "metadata": {},
   "outputs": [],
   "source": [
    "headers = {\n",
    "    'Content-Type': 'application/x-www-form-urlencoded'\n",
    "}"
   ]
  },
  {
   "cell_type": "code",
   "execution_count": 9,
   "metadata": {},
   "outputs": [],
   "source": [
    "data = {\n",
    "    'client_id': CLIENT_ID,\n",
    "    'client_secret': CLIENT_SECRET,\n",
    "    'grant_type': 'client_credentials',\n",
    "    'scope': '{client_id}'.format(client_id=CLIENT_ID) + \"/.default\"\n",
    "}"
   ]
  },
  {
   "cell_type": "code",
   "execution_count": 10,
   "metadata": {},
   "outputs": [],
   "source": [
    "response = requests.post(azure_token_issuer_url, data=data, headers=headers)"
   ]
  },
  {
   "cell_type": "code",
   "execution_count": 11,
   "metadata": {},
   "outputs": [],
   "source": [
    "azure_access_token = response.json()['access_token']"
   ]
  },
  {
   "cell_type": "markdown",
   "metadata": {},
   "source": [
    "#### Exchange Azure token for a GCP token with STS - Security Token Service"
   ]
  },
  {
   "cell_type": "code",
   "execution_count": null,
   "metadata": {},
   "outputs": [],
   "source": [
    "gcp_sts_url = \"https://sts.googleapis.com/v1/token\"\n",
    "headers = {\n",
    "    'Content-Type': 'application/json'\n",
    "}\n",
    "data = {\n",
    "    \"audience\": \"//iam.googleapis.com/projects/{project_number}/locations/global/workloadIdentityPools/{pool_id}/providers/{provider_id}\".format(project_number=PROJECT_NUMBER, pool_id=POOL_ID, provider_id=PROVIDER_ID),\n",
    "    \"grantType\": \"urn:ietf:params:oauth:grant-type:token-exchange\",\n",
    "    \"requestedTokenType\": \"urn:ietf:params:oauth:token-type:access_token\",\n",
    "    \"scope\": \"https://www.googleapis.com/auth/cloud-platform\",\n",
    "    \"subjectTokenType\": \"urn:ietf:params:oauth:token-type:jwt\",\n",
    "    \"subjectToken\": azure_access_token\n",
    "}"
   ]
  },
  {
   "cell_type": "code",
   "execution_count": 13,
   "metadata": {},
   "outputs": [],
   "source": [
    "response = requests.post(gcp_sts_url, data=json.dumps(data), headers=headers)"
   ]
  },
  {
   "cell_type": "code",
   "execution_count": 14,
   "metadata": {},
   "outputs": [],
   "source": [
    "sts_access_token = response.json()['access_token']"
   ]
  },
  {
   "cell_type": "markdown",
   "metadata": {},
   "source": [
    "#### Exchange STS access_token for final access token"
   ]
  },
  {
   "cell_type": "markdown",
   "metadata": {},
   "source": [
    "##### Approach 1 - Service Account Imperpersonation\n",
    "\n",
    "Please refer to GCP documentation for detailed instruction on how to set up service account impersonation."
   ]
  },
  {
   "cell_type": "code",
   "execution_count": 15,
   "metadata": {},
   "outputs": [],
   "source": [
    "iam_url = \"https://iamcredentials.googleapis.com/v1/projects/-/serviceAccounts/{service_account_email}:generateAccessToken\".format(service_account_email=SERVICE_ACCOUNT_EMAIL)\n",
    "headers = {\n",
    "    'Content-Type': 'application/json',\n",
    "    'Authorization': 'Bearer ' + sts_access_token\n",
    "}\n",
    "data = {\n",
    "    \"delegates\": [],\n",
    "    \"scope\": [\"https://www.googleapis.com/auth/cloud-platform\"]\n",
    "}"
   ]
  },
  {
   "cell_type": "code",
   "execution_count": 17,
   "metadata": {},
   "outputs": [],
   "source": [
    "response = requests.post(iam_url, data=json.dumps(data), headers=headers)"
   ]
  },
  {
   "cell_type": "code",
   "execution_count": 20,
   "metadata": {},
   "outputs": [],
   "source": [
    "access_token = response.json()['accessToken']"
   ]
  },
  {
   "cell_type": "markdown",
   "metadata": {},
   "source": [
    "##### Test WIF working by calling the BigQuery REST API with retrieved access token"
   ]
  },
  {
   "cell_type": "code",
   "execution_count": 21,
   "metadata": {},
   "outputs": [],
   "source": [
    "test_url = \"https://bigquery.googleapis.com//bigquery/v2/projects/{projectId}/datasets/melbourne_real_estate\".format(projectId=PROJECT_ID)"
   ]
  },
  {
   "cell_type": "code",
   "execution_count": 22,
   "metadata": {},
   "outputs": [],
   "source": [
    "response = requests.get(test_url, headers={'Authorization': 'Bearer ' + access_token})"
   ]
  },
  {
   "cell_type": "code",
   "execution_count": 26,
   "metadata": {},
   "outputs": [
    {
     "data": {
      "text/plain": [
       "'melbourne_real_estate'"
      ]
     },
     "execution_count": 26,
     "metadata": {},
     "output_type": "execute_result"
    }
   ],
   "source": [
    "response.json()['datasetReference']['datasetId']"
   ]
  },
  {
   "cell_type": "markdown",
   "metadata": {},
   "source": [
    "##### Approach 2 - "
   ]
  },
  {
   "cell_type": "markdown",
   "metadata": {},
   "source": [
    "# 2. Exchange token and access GCP resources through Python libraries"
   ]
  },
  {
   "cell_type": "code",
   "execution_count": 22,
   "metadata": {},
   "outputs": [
    {
     "data": {
      "text/plain": [
       "True"
      ]
     },
     "execution_count": 22,
     "metadata": {},
     "output_type": "execute_result"
    }
   ],
   "source": [
    "from msal import ConfidentialClientApplication\n",
    "from dotenv import load_dotenv\n",
    "import os\n",
    "load_dotenv()"
   ]
  },
  {
   "cell_type": "markdown",
   "metadata": {},
   "source": [
    "#### Generate the Azure access token"
   ]
  },
  {
   "cell_type": "code",
   "execution_count": 2,
   "metadata": {},
   "outputs": [],
   "source": [
    "CLIENT_SECRET = os.getenv('CLIENT_SECRET')\n",
    "CLIENT_ID = os.getenv('CLIENT_ID')\n",
    "TENANT_ID = os.getenv('TENANT_ID')"
   ]
  },
  {
   "cell_type": "code",
   "execution_count": 3,
   "metadata": {},
   "outputs": [],
   "source": [
    "app = ConfidentialClientApplication(\n",
    "    client_id = CLIENT_ID,\n",
    "    client_credential = CLIENT_SECRET,\n",
    "    authority = f\"https://login.microsoftonline.com/{TENANT_ID}\"\n",
    ")"
   ]
  },
  {
   "cell_type": "code",
   "execution_count": 4,
   "metadata": {},
   "outputs": [],
   "source": [
    "azure_access_token = app.acquire_token_for_client(scopes=[\"{client_id}/.default\".format(client_id=CLIENT_ID)])['access_token']"
   ]
  },
  {
   "cell_type": "markdown",
   "metadata": {},
   "source": [
    "#### Use the Google’s STS Client to get a federated token via the Workload Identity Federation"
   ]
  },
  {
   "cell_type": "code",
   "execution_count": 5,
   "metadata": {},
   "outputs": [],
   "source": [
    "from google.oauth2.sts import Client\n",
    "from google.auth.transport.requests import Request"
   ]
  },
  {
   "cell_type": "code",
   "execution_count": 6,
   "metadata": {},
   "outputs": [],
   "source": [
    "GCP_PROJECT_ID = os.getenv('PROJECT_ID')\n",
    "GCP_PROJECT_NUMBER = os.getenv('PROJECT_NUMBER')\n",
    "POOL_ID = os.getenv('POOL_ID')\n",
    "PROVIDER_ID = os.getenv('PROVIDER_ID')"
   ]
  },
  {
   "cell_type": "code",
   "execution_count": 7,
   "metadata": {},
   "outputs": [],
   "source": [
    "sts_client = Client(token_exchange_endpoint=\"https://sts.googleapis.com/v1/token\")\n",
    "response = sts_client.exchange_token(\n",
    "    request=Request(),\n",
    "    audience=f\"//iam.googleapis.com/projects/{GCP_PROJECT_NUMBER}/locations/global/workloadIdentityPools/{POOL_ID}/providers/{PROVIDER_ID}\",\n",
    "    grant_type=\"urn:ietf:params:oauth:grant-type:token-exchange\",\n",
    "    subject_token=azure_access_token,\n",
    "    scopes=[\"https://www.googleapis.com/auth/cloud-platform\"],\n",
    "    subject_token_type=\"urn:ietf:params:oauth:token-type:jwt\",\n",
    "    requested_token_type=\"urn:ietf:params:oauth:token-type:access_token\"\n",
    ")"
   ]
  },
  {
   "cell_type": "code",
   "execution_count": 8,
   "metadata": {},
   "outputs": [],
   "source": [
    "sts_access_token = response[\"access_token\"]"
   ]
  },
  {
   "cell_type": "markdown",
   "metadata": {},
   "source": [
    "#### Impersonate the target service account with STS token"
   ]
  },
  {
   "cell_type": "code",
   "execution_count": 9,
   "metadata": {},
   "outputs": [],
   "source": [
    "from google.oauth2.credentials import Credentials\n",
    "from google.auth import impersonated_credentials"
   ]
  },
  {
   "cell_type": "code",
   "execution_count": 10,
   "metadata": {},
   "outputs": [],
   "source": [
    "TARGET_SERVICE_ACCOUNT = os.getenv('SERVICE_ACCOUNT_EMAIL')"
   ]
  },
  {
   "cell_type": "code",
   "execution_count": 11,
   "metadata": {},
   "outputs": [],
   "source": [
    "sts_credentials = Credentials(token=sts_access_token)"
   ]
  },
  {
   "cell_type": "code",
   "execution_count": 12,
   "metadata": {},
   "outputs": [],
   "source": [
    "credentials = impersonated_credentials.Credentials(\n",
    "    source_credentials=sts_credentials,\n",
    "    target_principal=TARGET_SERVICE_ACCOUNT,\n",
    "    target_scopes=[\"https://www.googleapis.com/auth/cloud-platform\"],\n",
    "    lifetime=3600\n",
    ")"
   ]
  },
  {
   "cell_type": "code",
   "execution_count": 13,
   "metadata": {},
   "outputs": [],
   "source": [
    "credentials.refresh(Request())"
   ]
  },
  {
   "cell_type": "markdown",
   "metadata": {},
   "source": [
    "#### Call your Google API (here BigQuery) for testing"
   ]
  },
  {
   "cell_type": "code",
   "execution_count": 23,
   "metadata": {},
   "outputs": [],
   "source": [
    "from google.cloud import bigquery\n",
    "BIGQUERY_DATASET_ID = os.getenv('BIGQUERY_DATASET_ID')"
   ]
  },
  {
   "cell_type": "code",
   "execution_count": 19,
   "metadata": {},
   "outputs": [],
   "source": [
    "client = bigquery.Client(credentials=credentials, project=GCP_PROJECT_ID)"
   ]
  },
  {
   "cell_type": "code",
   "execution_count": 26,
   "metadata": {},
   "outputs": [],
   "source": [
    "query = \"SELECT * FROM {project_id}.{dataset_id}.INFORMATION_SCHEMA.TABLES;\".format(project_id=GCP_PROJECT_ID, dataset_id=BIGQUERY_DATASET_ID)"
   ]
  },
  {
   "cell_type": "code",
   "execution_count": 27,
   "metadata": {},
   "outputs": [],
   "source": [
    "query_job = client.query(query)"
   ]
  },
  {
   "cell_type": "code",
   "execution_count": 28,
   "metadata": {},
   "outputs": [
    {
     "name": "stdout",
     "output_type": "stream",
     "text": [
      "The query data:\n",
      "Row(('robin-sandpit', 'melbourne_real_estate', 'mel_estate_data_til_2017_geo', 'BASE TABLE', 'YES', 'NO', datetime.datetime(2023, 5, 12, 0, 3, 12, 295000, tzinfo=datetime.timezone.utc), None, None, None, None, 'CREATE TABLE `robin-sandpit.melbourne_real_estate.mel_estate_data_til_2017_geo`\\n(\\n  ListingId INT64,\\n  Agency STRING,\\n  Price INT64,\\n  DateSold STRING,\\n  StreetAddress STRING,\\n  Postcode INT64,\\n  Locality STRING,\\n  Latitude FLOAT64,\\n  Longitude FLOAT64,\\n  LandSize INT64,\\n  LandSizeUnit STRING,\\n  Bedrooms INT64,\\n  Bathrooms INT64,\\n  ParkingSpaces INT64,\\n  PropertyType STRING,\\n  cbdDistance FLOAT64,\\n  `1PrimaryName` STRING,\\n  `1PrimarySector` STRING,\\n  `1PrimaryDistance` FLOAT64,\\n  `1PrimaryScore` INT64,\\n  `2PrimaryName` STRING,\\n  `2PrimarySector` STRING,\\n  `2PrimaryDistance` FLOAT64,\\n  `2PrimaryScore` INT64,\\n  `3PrimaryName` STRING,\\n  `3PrimarySector` STRING,\\n  `3PrimaryDistance` FLOAT64,\\n  `3PrimaryScore` INT64,\\n  `1SecondaryName` STRING,\\n  `1SecondarySector` STRING,\\n  `1SecondaryDistance` FLOAT64,\\n  `1SecondaryScore` INT64,\\n  `2SecondaryName` STRING,\\n  `2SecondarySector` STRING,\\n  `2SecondaryDistance` FLOAT64,\\n  `2SecondaryScore` INT64,\\n  `3SecondaryName` STRING,\\n  `3SecondarySector` STRING,\\n  `3SecondaryDistance` FLOAT64,\\n  `3SecondaryScore` INT64,\\n  geometry GEOGRAPHY\\n);', 'NULL', None, None, None, None, None, None, 'NO', None), {'table_catalog': 0, 'table_schema': 1, 'table_name': 2, 'table_type': 3, 'is_insertable_into': 4, 'is_typed': 5, 'creation_time': 6, 'base_table_catalog': 7, 'base_table_schema': 8, 'base_table_name': 9, 'snapshot_time_ms': 10, 'ddl': 11, 'default_collation_name': 12, 'upsert_stream_apply_watermark': 13, 'replica_source_catalog': 14, 'replica_source_schema': 15, 'replica_source_name': 16, 'replication_status': 17, 'replication_error': 18, 'is_change_history_enabled': 19, 'sync_status': 20})\n",
      "Row(('robin-sandpit', 'melbourne_real_estate', 'melbourne_girls_school_zones_geo', 'BASE TABLE', 'YES', 'NO', datetime.datetime(2023, 5, 12, 3, 6, 58, 620000, tzinfo=datetime.timezone.utc), None, None, None, None, 'CREATE TABLE `robin-sandpit.melbourne_real_estate.melbourne_girls_school_zones_geo`\\n(\\n  id INT64,\\n  name STRING,\\n  gender STRING,\\n  restrictedZone BOOL,\\n  lng FLOAT64,\\n  type STRING,\\n  lat FLOAT64,\\n  geometry GEOGRAPHY\\n);', 'NULL', None, None, None, None, None, None, 'NO', None), {'table_catalog': 0, 'table_schema': 1, 'table_name': 2, 'table_type': 3, 'is_insertable_into': 4, 'is_typed': 5, 'creation_time': 6, 'base_table_catalog': 7, 'base_table_schema': 8, 'base_table_name': 9, 'snapshot_time_ms': 10, 'ddl': 11, 'default_collation_name': 12, 'upsert_stream_apply_watermark': 13, 'replica_source_catalog': 14, 'replica_source_schema': 15, 'replica_source_name': 16, 'replication_status': 17, 'replication_error': 18, 'is_change_history_enabled': 19, 'sync_status': 20})\n",
      "Row(('robin-sandpit', 'melbourne_real_estate', 'geospatial_bins', 'BASE TABLE', 'YES', 'NO', datetime.datetime(2023, 5, 16, 1, 3, 13, 819000, tzinfo=datetime.timezone.utc), None, None, None, None, 'CREATE TABLE `robin-sandpit.melbourne_real_estate.geospatial_bins`\\n(\\n  zoom INT64,\\n  tile_x FLOAT64,\\n  tile_y FLOAT64,\\n  geometry STRING,\\n  tile_idx STRING\\n);', 'NULL', None, None, None, None, None, None, 'NO', None), {'table_catalog': 0, 'table_schema': 1, 'table_name': 2, 'table_type': 3, 'is_insertable_into': 4, 'is_typed': 5, 'creation_time': 6, 'base_table_catalog': 7, 'base_table_schema': 8, 'base_table_name': 9, 'snapshot_time_ms': 10, 'ddl': 11, 'default_collation_name': 12, 'upsert_stream_apply_watermark': 13, 'replica_source_catalog': 14, 'replica_source_schema': 15, 'replica_source_name': 16, 'replication_status': 17, 'replication_error': 18, 'is_change_history_enabled': 19, 'sync_status': 20})\n",
      "Row(('robin-sandpit', 'melbourne_real_estate', 'mel_estate_data_til_2017', 'BASE TABLE', 'YES', 'NO', datetime.datetime(2023, 5, 11, 2, 38, 11, 710000, tzinfo=datetime.timezone.utc), None, None, None, None, 'CREATE TABLE `robin-sandpit.melbourne_real_estate.mel_estate_data_til_2017`\\n(\\n  ListingId INT64,\\n  Agency STRING,\\n  Price INT64,\\n  DateSold STRING,\\n  StreetAddress STRING,\\n  Postcode INT64,\\n  Locality STRING,\\n  Latitude FLOAT64,\\n  Longitude FLOAT64,\\n  LandSize INT64,\\n  LandSizeUnit STRING,\\n  Bedrooms INT64,\\n  Bathrooms INT64,\\n  ParkingSpaces INT64,\\n  PropertyType STRING,\\n  cbdDistance FLOAT64,\\n  `1PrimaryName` STRING,\\n  `1PrimarySector` STRING,\\n  `1PrimaryDistance` FLOAT64,\\n  `1PrimaryScore` INT64,\\n  `2PrimaryName` STRING,\\n  `2PrimarySector` STRING,\\n  `2PrimaryDistance` FLOAT64,\\n  `2PrimaryScore` INT64,\\n  `3PrimaryName` STRING,\\n  `3PrimarySector` STRING,\\n  `3PrimaryDistance` FLOAT64,\\n  `3PrimaryScore` INT64,\\n  `1SecondaryName` STRING,\\n  `1SecondarySector` STRING,\\n  `1SecondaryDistance` FLOAT64,\\n  `1SecondaryScore` INT64,\\n  `2SecondaryName` STRING,\\n  `2SecondarySector` STRING,\\n  `2SecondaryDistance` FLOAT64,\\n  `2SecondaryScore` INT64,\\n  `3SecondaryName` STRING,\\n  `3SecondarySector` STRING,\\n  `3SecondaryDistance` FLOAT64,\\n  `3SecondaryScore` INT64\\n);', 'NULL', None, None, None, None, None, None, 'NO', None), {'table_catalog': 0, 'table_schema': 1, 'table_name': 2, 'table_type': 3, 'is_insertable_into': 4, 'is_typed': 5, 'creation_time': 6, 'base_table_catalog': 7, 'base_table_schema': 8, 'base_table_name': 9, 'snapshot_time_ms': 10, 'ddl': 11, 'default_collation_name': 12, 'upsert_stream_apply_watermark': 13, 'replica_source_catalog': 14, 'replica_source_schema': 15, 'replica_source_name': 16, 'replication_status': 17, 'replication_error': 18, 'is_change_history_enabled': 19, 'sync_status': 20})\n",
      "Row(('robin-sandpit', 'melbourne_real_estate', 'mel_real_estate_data_for_ml', 'BASE TABLE', 'YES', 'NO', datetime.datetime(2023, 5, 16, 1, 52, 23, 480000, tzinfo=datetime.timezone.utc), None, None, None, None, 'CREATE TABLE `robin-sandpit.melbourne_real_estate.mel_real_estate_data_for_ml`\\n(\\n  ListingId INT64,\\n  Agency STRING,\\n  Price INT64,\\n  DateSold STRING,\\n  StreetAddress STRING,\\n  Postcode INT64,\\n  Locality STRING,\\n  Latitude FLOAT64,\\n  Longitude FLOAT64,\\n  LandSize INT64,\\n  LandSizeUnit STRING,\\n  Bedrooms INT64,\\n  Bathrooms INT64,\\n  ParkingSpaces INT64,\\n  PropertyType STRING,\\n  cbdDistance FLOAT64,\\n  PrimaryName1 STRING,\\n  PrimarySector1 STRING,\\n  PrimaryDistance1 FLOAT64,\\n  PrimaryScore1 INT64,\\n  PrimaryName2 STRING,\\n  PrimarySector2 STRING,\\n  PrimaryDistance2 FLOAT64,\\n  PrimaryScore2 INT64,\\n  PrimaryName3 STRING,\\n  PrimarySector3 STRING,\\n  PrimaryDistance3 FLOAT64,\\n  PrimaryScore3 INT64,\\n  SecondaryName1 STRING,\\n  SecondarySector1 STRING,\\n  SecondaryDistance1 FLOAT64,\\n  SecondaryScore1 INT64,\\n  SecondaryName2 STRING,\\n  SecondarySector2 STRING,\\n  SecondaryDistance2 FLOAT64,\\n  SecondaryScore2 INT64,\\n  SecondaryName3 STRING,\\n  SecondarySector3 STRING,\\n  SecondaryDistance3 FLOAT64,\\n  SecondaryScore3 INT64,\\n  zoom FLOAT64,\\n  tile_x FLOAT64,\\n  tile_y FLOAT64,\\n  tile_idx STRING\\n);', 'NULL', None, None, None, None, None, None, 'NO', None), {'table_catalog': 0, 'table_schema': 1, 'table_name': 2, 'table_type': 3, 'is_insertable_into': 4, 'is_typed': 5, 'creation_time': 6, 'base_table_catalog': 7, 'base_table_schema': 8, 'base_table_name': 9, 'snapshot_time_ms': 10, 'ddl': 11, 'default_collation_name': 12, 'upsert_stream_apply_watermark': 13, 'replica_source_catalog': 14, 'replica_source_schema': 15, 'replica_source_name': 16, 'replication_status': 17, 'replication_error': 18, 'is_change_history_enabled': 19, 'sync_status': 20})\n",
      "Row(('robin-sandpit', 'melbourne_real_estate', 'melbourne_secondary_school_zones_geo', 'BASE TABLE', 'YES', 'NO', datetime.datetime(2023, 5, 12, 3, 2, 0, 93000, tzinfo=datetime.timezone.utc), None, None, None, None, 'CREATE TABLE `robin-sandpit.melbourne_real_estate.melbourne_secondary_school_zones_geo`\\n(\\n  id INT64,\\n  name STRING,\\n  gender STRING,\\n  restrictedZone BOOL,\\n  lng FLOAT64,\\n  type STRING,\\n  lat FLOAT64,\\n  geometry GEOGRAPHY\\n);', 'NULL', None, None, None, None, None, None, 'NO', None), {'table_catalog': 0, 'table_schema': 1, 'table_name': 2, 'table_type': 3, 'is_insertable_into': 4, 'is_typed': 5, 'creation_time': 6, 'base_table_catalog': 7, 'base_table_schema': 8, 'base_table_name': 9, 'snapshot_time_ms': 10, 'ddl': 11, 'default_collation_name': 12, 'upsert_stream_apply_watermark': 13, 'replica_source_catalog': 14, 'replica_source_schema': 15, 'replica_source_name': 16, 'replication_status': 17, 'replication_error': 18, 'is_change_history_enabled': 19, 'sync_status': 20})\n",
      "Row(('robin-sandpit', 'melbourne_real_estate', 'melbourne_primary_school_zones_geo', 'BASE TABLE', 'YES', 'NO', datetime.datetime(2023, 5, 12, 2, 56, 12, 994000, tzinfo=datetime.timezone.utc), None, None, None, None, 'CREATE TABLE `robin-sandpit.melbourne_real_estate.melbourne_primary_school_zones_geo`\\n(\\n  id INT64,\\n  name STRING,\\n  gender STRING,\\n  restrictedZone BOOL,\\n  lng FLOAT64,\\n  type STRING,\\n  lat FLOAT64,\\n  zone STRING,\\n  geometry GEOGRAPHY\\n);', 'NULL', None, None, None, None, None, None, 'NO', None), {'table_catalog': 0, 'table_schema': 1, 'table_name': 2, 'table_type': 3, 'is_insertable_into': 4, 'is_typed': 5, 'creation_time': 6, 'base_table_catalog': 7, 'base_table_schema': 8, 'base_table_name': 9, 'snapshot_time_ms': 10, 'ddl': 11, 'default_collation_name': 12, 'upsert_stream_apply_watermark': 13, 'replica_source_catalog': 14, 'replica_source_schema': 15, 'replica_source_name': 16, 'replication_status': 17, 'replication_error': 18, 'is_change_history_enabled': 19, 'sync_status': 20})\n"
     ]
    }
   ],
   "source": [
    "print(\"The query data:\")\n",
    "for row in query_job:\n",
    "    print(row)"
   ]
  },
  {
   "cell_type": "code",
   "execution_count": null,
   "metadata": {},
   "outputs": [],
   "source": []
  }
 ],
 "metadata": {
  "kernelspec": {
   "display_name": "venv",
   "language": "python",
   "name": "python3"
  },
  "language_info": {
   "codemirror_mode": {
    "name": "ipython",
    "version": 3
   },
   "file_extension": ".py",
   "mimetype": "text/x-python",
   "name": "python",
   "nbconvert_exporter": "python",
   "pygments_lexer": "ipython3",
   "version": "3.11.9"
  }
 },
 "nbformat": 4,
 "nbformat_minor": 2
}
