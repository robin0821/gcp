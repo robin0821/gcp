{
 "cells": [
  {
   "cell_type": "code",
   "execution_count": 11,
   "metadata": {},
   "outputs": [
    {
     "data": {
      "text/plain": [
       "True"
      ]
     },
     "execution_count": 11,
     "metadata": {},
     "output_type": "execute_result"
    }
   ],
   "source": [
    "import requests\n",
    "from dotenv import load_dotenv\n",
    "import os\n",
    "import json\n",
    "load_dotenv()"
   ]
  },
  {
   "cell_type": "markdown",
   "metadata": {},
   "source": [
    "# 1. Exchange token and access GCP resources through API"
   ]
  },
  {
   "cell_type": "code",
   "execution_count": 2,
   "metadata": {},
   "outputs": [],
   "source": [
    "TENANT_ID = os.getenv(\"TENANT_ID\")\n",
    "CLIENT_ID = os.getenv(\"CLIENT_ID\")\n",
    "CLIENT_SECRET = os.getenv(\"CLIENT_SECRET\")\n",
    "PROJECT_NUMBER = os.getenv(\"PROJECT_NUMBER\")\n",
    "PROJECT_ID = os.getenv(\"PROJECT_ID\")"
   ]
  },
  {
   "cell_type": "code",
   "execution_count": 3,
   "metadata": {},
   "outputs": [
    {
     "data": {
      "text/plain": [
       "'856284218728'"
      ]
     },
     "execution_count": 3,
     "metadata": {},
     "output_type": "execute_result"
    }
   ],
   "source": [
    "os.getenv(\"PROJECT_NUMBER\")"
   ]
  },
  {
   "cell_type": "code",
   "execution_count": 4,
   "metadata": {},
   "outputs": [],
   "source": [
    "azure_token_issuer_url = \"https://login.microsoftonline.com/{tenant_id}/oauth2/v2.0/token\".format(tenant_id=TENANT_ID)"
   ]
  },
  {
   "cell_type": "markdown",
   "metadata": {},
   "source": [
    "# 2. Exchange token and access GCP resources through Python libraries"
   ]
  },
  {
   "cell_type": "markdown",
   "metadata": {},
   "source": [
    "#### Get access_token from Azure Entra ID first. (Note: please register app via Azure and create client_secret if Azure Metadata Server is not accessiblee)"
   ]
  },
  {
   "cell_type": "code",
   "execution_count": 5,
   "metadata": {},
   "outputs": [],
   "source": [
    "headers = {\n",
    "    'Content-Type': 'application/x-www-form-urlencoded'\n",
    "}"
   ]
  },
  {
   "cell_type": "code",
   "execution_count": 6,
   "metadata": {},
   "outputs": [],
   "source": [
    "data = {\n",
    "    'client_id': CLIENT_ID,\n",
    "    'client_secret': CLIENT_SECRET,\n",
    "    'grant_type': 'client_credentials',\n",
    "    'scope': '{client_id}'.format(client_id=CLIENT_ID) + \"/.default\"\n",
    "}"
   ]
  },
  {
   "cell_type": "code",
   "execution_count": 7,
   "metadata": {},
   "outputs": [],
   "source": [
    "response = requests.post(azure_token_issuer_url, data=data, headers=headers)"
   ]
  },
  {
   "cell_type": "code",
   "execution_count": 8,
   "metadata": {},
   "outputs": [],
   "source": [
    "azure_access_token = response.json()['access_token']"
   ]
  },
  {
   "cell_type": "markdown",
   "metadata": {},
   "source": [
    "#### Exchange Azure token for a GCP token with STS - Security Token Service"
   ]
  },
  {
   "cell_type": "code",
   "execution_count": 17,
   "metadata": {},
   "outputs": [],
   "source": [
    "gcp_sts_url = \"https://sts.googleapis.com/v1/token\"\n",
    "headers = {\n",
    "    'Content-Type': 'application/json'\n",
    "}\n",
    "data = {\n",
    "    \"audience\": \"//iam.googleapis.com/projects/{project_number}/locations/global/workloadIdentityPools/{pool_id}/providers/{provider_id}\".format(project_number=PROJECT_NUMBER, pool_id=\"azure-pool\", provider_id=\"azure\"),\n",
    "    \"grantType\": \"urn:ietf:params:oauth:grant-type:token-exchange\",\n",
    "    \"requestedTokenType\": \"urn:ietf:params:oauth:token-type:access_token\",\n",
    "    \"scope\": \"https://www.googleapis.com/auth/cloud-platform\",\n",
    "    \"subjectTokenType\": \"urn:ietf:params:oauth:token-type:jwt\",\n",
    "    \"subjectToken\": azure_access_token\n",
    "}"
   ]
  },
  {
   "cell_type": "code",
   "execution_count": 18,
   "metadata": {},
   "outputs": [],
   "source": [
    "response = requests.post(gcp_sts_url, data=json.dumps(data), headers=headers)"
   ]
  },
  {
   "cell_type": "code",
   "execution_count": 19,
   "metadata": {},
   "outputs": [
    {
     "data": {
      "text/plain": [
       "{'access_token': 'ya29.d.c0ASRK0GYM_Cas4DFK4yKFifL1FZFgcd7Q45nD0Ai2lT5SmljIwyj2zpMIWrCpc_xZYqPFvf3sXkrCjL_LA8GziKLyZiUswXciT_hfablahMbkcrixypMakSc90NwzqME78X3ejmU6hx5HhnikTPOHSGu-dzluWpdJp1s11oGF2Y-_OheSwuT3KDgoRlCm5YkOWa4_ryzjGAkU3hIannXWgNlmZkmFvXpcT3n9g7dDeWKUxef-_XioAqh9gyKBesFiNNZadeXlbhS8H9zmVPW-2T5BQ5YcEQTbQF_oM-PhZ-V4k7vNEF9nRd_vYmyycLW07O00otLkuCaylhcVgpJ7cHd7wtVMpuKXJw5WlmZhMBJlwwsduUN0Gl4w78Lu0Ey2X0Luj9ApSnkDVtYDTcxbKSvgZxzG30ZggudcZyOUV9gQTv95tVQJBrRRrCwkrlBUBy6yHqveem0Cw_CjSC4JTJbeXOh2BMK80bcezf0SYRXI3xXsOBYqd4aay_S34lU6pwdZV00cR1lkYj9pU33b5N05b3Fx3ez9DJ1WDenICZbVHaw9YrVDWE1AmF50klRLn3PeMMT66OI4Qm_zfKlrG7zaOh2ClVpAqSwX1Q0_wN-bvkDx2dchK2SL9s3PsKBgmQJ1TT_ScjSxd6FXippZRJ5zL7csyweUCljLKd89Hmblg3eiSgomNePOpsmQJldY-6v2AV77v7aTaWvBNpL_YLPvD4YYbbwNSiUEOjETU11z3mC_Y04VVuF9rEZh0Th06eFzY6YWhER6xUwsC4-VKML-RhqMnzC5PeNlB9LxxvH6fnS27Uky4lOMtneQbFJxpgzKtWTr1V3avzHfHocDUcjVHzPga2bZ-6tZYJwwul3W4jw-FmtGGxCW8mhlSLNE90tWit5FxMhKToBzfG2dl2Pcz5z2jTLcnhn1cQRC5fwnx5MuU6DcgWNScgWIPJMXC2Fgjda7A4TBcz7kuZzGXcXZFYnsqMQT96Xe3U_pLePYUTm2NoM',\n",
       " 'issued_token_type': 'urn:ietf:params:oauth:token-type:access_token',\n",
       " 'token_type': 'Bearer',\n",
       " 'expires_in': 3157}"
      ]
     },
     "execution_count": 19,
     "metadata": {},
     "output_type": "execute_result"
    }
   ],
   "source": [
    "response.json()"
   ]
  },
  {
   "cell_type": "code",
   "execution_count": null,
   "metadata": {},
   "outputs": [],
   "source": []
  }
 ],
 "metadata": {
  "kernelspec": {
   "display_name": "venv",
   "language": "python",
   "name": "python3"
  },
  "language_info": {
   "codemirror_mode": {
    "name": "ipython",
    "version": 3
   },
   "file_extension": ".py",
   "mimetype": "text/x-python",
   "name": "python",
   "nbconvert_exporter": "python",
   "pygments_lexer": "ipython3",
   "version": "3.11.9"
  }
 },
 "nbformat": 4,
 "nbformat_minor": 2
}
