{
 "cells": [
  {
   "cell_type": "code",
   "execution_count": 163,
   "id": "52624e66-b281-41a0-aea1-e7a7216e4fac",
   "metadata": {},
   "outputs": [],
   "source": [
    "import pandas as pd\n",
    "import geopandas as gpd\n",
    "from sqlalchemy import *\n",
    "from sqlalchemy.engine import create_engine\n",
    "from sqlalchemy.schema import *\n",
    "from google.cloud import storage\n",
    "import gcsfs\n",
    "from shapely.geometry import Polygon\n",
    "import decimal"
   ]
  },
  {
   "cell_type": "code",
   "execution_count": 61,
   "id": "54276f43-0118-48d8-9a0c-16b7bee12a3a",
   "metadata": {},
   "outputs": [],
   "source": [
    "pd.options.display.max_columns=None"
   ]
  },
  {
   "cell_type": "code",
   "execution_count": 2,
   "id": "8da0013c-df90-42e4-8330-301e9288ee28",
   "metadata": {},
   "outputs": [],
   "source": [
    "credentials = '../robin-sandpit-f5abc8fc3d93.json'"
   ]
  },
  {
   "cell_type": "code",
   "execution_count": 3,
   "id": "b32bd04c-5903-46d6-9432-08e4ce9c5682",
   "metadata": {},
   "outputs": [],
   "source": [
    "engine = create_engine('bigquery://robin-sandpit', credentials_path=credentials)"
   ]
  },
  {
   "cell_type": "code",
   "execution_count": 6,
   "id": "eb45747b-48bb-4a0b-86f0-57275264c9ba",
   "metadata": {},
   "outputs": [],
   "source": [
    "file_path = 'gs://rd_experiments/mel_estate.csv'"
   ]
  },
  {
   "cell_type": "code",
   "execution_count": 7,
   "id": "6a1f4809-76e3-4b98-869b-29ffc6ef9fb8",
   "metadata": {},
   "outputs": [],
   "source": [
    "df = pd.read_csv(file_path, storage_options={\"token\": credentials})"
   ]
  },
  {
   "cell_type": "markdown",
   "id": "304b4217-fb31-4232-b3e6-72432e1f35dc",
   "metadata": {},
   "source": [
    "### 1. Upload dataframe as common table i.e., without geospatial column"
   ]
  },
  {
   "cell_type": "code",
   "execution_count": 36,
   "id": "e905cd11-a94c-4db9-8cd4-bfb8b6c044c2",
   "metadata": {},
   "outputs": [],
   "source": [
    "df.to_gbq('melbourne_real_estate.mel_estate_data_til_2017', project_id='robin-sandpit')"
   ]
  },
  {
   "cell_type": "markdown",
   "id": "8ccdd07a-b1d1-486e-a620-5606144e5681",
   "metadata": {},
   "source": [
    "### 2. Upload geoDataFrame to BQ table i.e., including geospatial column"
   ]
  },
  {
   "cell_type": "code",
   "execution_count": 8,
   "id": "738cea77-be70-48e4-b860-f46e70d469be",
   "metadata": {},
   "outputs": [
    {
     "data": {
      "text/html": [
       "<div>\n",
       "<style scoped>\n",
       "    .dataframe tbody tr th:only-of-type {\n",
       "        vertical-align: middle;\n",
       "    }\n",
       "\n",
       "    .dataframe tbody tr th {\n",
       "        vertical-align: top;\n",
       "    }\n",
       "\n",
       "    .dataframe thead th {\n",
       "        text-align: right;\n",
       "    }\n",
       "</style>\n",
       "<table border=\"1\" class=\"dataframe\">\n",
       "  <thead>\n",
       "    <tr style=\"text-align: right;\">\n",
       "      <th></th>\n",
       "      <th>ListingId</th>\n",
       "      <th>Agency</th>\n",
       "      <th>Price</th>\n",
       "      <th>DateSold</th>\n",
       "      <th>StreetAddress</th>\n",
       "      <th>Postcode</th>\n",
       "      <th>Locality</th>\n",
       "      <th>Latitude</th>\n",
       "      <th>Longitude</th>\n",
       "      <th>LandSize</th>\n",
       "      <th>...</th>\n",
       "      <th>1SecondaryDistance</th>\n",
       "      <th>1SecondaryScore</th>\n",
       "      <th>2SecondaryName</th>\n",
       "      <th>2SecondarySector</th>\n",
       "      <th>2SecondaryDistance</th>\n",
       "      <th>2SecondaryScore</th>\n",
       "      <th>3SecondaryName</th>\n",
       "      <th>3SecondarySector</th>\n",
       "      <th>3SecondaryDistance</th>\n",
       "      <th>3SecondaryScore</th>\n",
       "    </tr>\n",
       "  </thead>\n",
       "  <tbody>\n",
       "    <tr>\n",
       "      <th>0</th>\n",
       "      <td>125268674</td>\n",
       "      <td>First National Real Estate Mike Brown - CHIRNS...</td>\n",
       "      <td>9500000</td>\n",
       "      <td>2017-06-16</td>\n",
       "      <td>111 Mangans Rd</td>\n",
       "      <td>3140</td>\n",
       "      <td>Lilydale</td>\n",
       "      <td>-37.754930</td>\n",
       "      <td>145.371809</td>\n",
       "      <td>33285</td>\n",
       "      <td>...</td>\n",
       "      <td>1281.292691</td>\n",
       "      <td>79</td>\n",
       "      <td>Lilydale High School</td>\n",
       "      <td>Government</td>\n",
       "      <td>2400.727151</td>\n",
       "      <td>74</td>\n",
       "      <td>Lilydale Heights College</td>\n",
       "      <td>Government</td>\n",
       "      <td>2990.908676</td>\n",
       "      <td>67</td>\n",
       "    </tr>\n",
       "    <tr>\n",
       "      <th>1</th>\n",
       "      <td>125255346</td>\n",
       "      <td>Marshall White - Stonnington</td>\n",
       "      <td>8150000</td>\n",
       "      <td>2017-05-23</td>\n",
       "      <td>7 Dunraven Avenue</td>\n",
       "      <td>3142</td>\n",
       "      <td>Toorak</td>\n",
       "      <td>-37.845278</td>\n",
       "      <td>145.014403</td>\n",
       "      <td>634</td>\n",
       "      <td>...</td>\n",
       "      <td>984.079139</td>\n",
       "      <td>89</td>\n",
       "      <td>Lauriston Girls' School</td>\n",
       "      <td>Independent</td>\n",
       "      <td>1231.496278</td>\n",
       "      <td>99</td>\n",
       "      <td>St Kevin's College</td>\n",
       "      <td>Catholic</td>\n",
       "      <td>1385.246314</td>\n",
       "      <td>97</td>\n",
       "    </tr>\n",
       "  </tbody>\n",
       "</table>\n",
       "<p>2 rows × 40 columns</p>\n",
       "</div>"
      ],
      "text/plain": [
       "   ListingId                                             Agency    Price  \\\n",
       "0  125268674  First National Real Estate Mike Brown - CHIRNS...  9500000   \n",
       "1  125255346                       Marshall White - Stonnington  8150000   \n",
       "\n",
       "     DateSold      StreetAddress  Postcode  Locality   Latitude   Longitude  \\\n",
       "0  2017-06-16     111 Mangans Rd      3140  Lilydale -37.754930  145.371809   \n",
       "1  2017-05-23  7 Dunraven Avenue      3142    Toorak -37.845278  145.014403   \n",
       "\n",
       "   LandSize  ... 1SecondaryDistance  1SecondaryScore           2SecondaryName  \\\n",
       "0     33285  ...        1281.292691               79     Lilydale High School   \n",
       "1       634  ...         984.079139               89  Lauriston Girls' School   \n",
       "\n",
       "   2SecondarySector 2SecondaryDistance  2SecondaryScore  \\\n",
       "0        Government        2400.727151               74   \n",
       "1       Independent        1231.496278               99   \n",
       "\n",
       "             3SecondaryName 3SecondarySector  3SecondaryDistance  \\\n",
       "0  Lilydale Heights College       Government         2990.908676   \n",
       "1        St Kevin's College         Catholic         1385.246314   \n",
       "\n",
       "   3SecondaryScore  \n",
       "0               67  \n",
       "1               97  \n",
       "\n",
       "[2 rows x 40 columns]"
      ]
     },
     "execution_count": 8,
     "metadata": {},
     "output_type": "execute_result"
    }
   ],
   "source": [
    "df.head(2)"
   ]
  },
  {
   "cell_type": "code",
   "execution_count": 27,
   "id": "c9bda408-b945-468f-97f0-d07a44bf0f9d",
   "metadata": {},
   "outputs": [],
   "source": [
    "gdf = gpd.GeoDataFrame(df, geometry=gpd.points_from_xy(df['Longitude'], df['Latitude']), crs=\"EPSG:4326\")"
   ]
  },
  {
   "cell_type": "code",
   "execution_count": 28,
   "id": "e99b0636-151b-409e-97a6-652a7cceff9b",
   "metadata": {},
   "outputs": [
    {
     "data": {
      "text/html": [
       "<div>\n",
       "<style scoped>\n",
       "    .dataframe tbody tr th:only-of-type {\n",
       "        vertical-align: middle;\n",
       "    }\n",
       "\n",
       "    .dataframe tbody tr th {\n",
       "        vertical-align: top;\n",
       "    }\n",
       "\n",
       "    .dataframe thead th {\n",
       "        text-align: right;\n",
       "    }\n",
       "</style>\n",
       "<table border=\"1\" class=\"dataframe\">\n",
       "  <thead>\n",
       "    <tr style=\"text-align: right;\">\n",
       "      <th></th>\n",
       "      <th>ListingId</th>\n",
       "      <th>Agency</th>\n",
       "      <th>Price</th>\n",
       "      <th>DateSold</th>\n",
       "      <th>StreetAddress</th>\n",
       "      <th>Postcode</th>\n",
       "      <th>Locality</th>\n",
       "      <th>Latitude</th>\n",
       "      <th>Longitude</th>\n",
       "      <th>LandSize</th>\n",
       "      <th>...</th>\n",
       "      <th>1SecondaryScore</th>\n",
       "      <th>2SecondaryName</th>\n",
       "      <th>2SecondarySector</th>\n",
       "      <th>2SecondaryDistance</th>\n",
       "      <th>2SecondaryScore</th>\n",
       "      <th>3SecondaryName</th>\n",
       "      <th>3SecondarySector</th>\n",
       "      <th>3SecondaryDistance</th>\n",
       "      <th>3SecondaryScore</th>\n",
       "      <th>geometry</th>\n",
       "    </tr>\n",
       "  </thead>\n",
       "  <tbody>\n",
       "    <tr>\n",
       "      <th>0</th>\n",
       "      <td>125268674</td>\n",
       "      <td>First National Real Estate Mike Brown - CHIRNS...</td>\n",
       "      <td>9500000</td>\n",
       "      <td>2017-06-16</td>\n",
       "      <td>111 Mangans Rd</td>\n",
       "      <td>3140</td>\n",
       "      <td>Lilydale</td>\n",
       "      <td>-37.754930</td>\n",
       "      <td>145.371809</td>\n",
       "      <td>33285</td>\n",
       "      <td>...</td>\n",
       "      <td>79</td>\n",
       "      <td>Lilydale High School</td>\n",
       "      <td>Government</td>\n",
       "      <td>2400.727151</td>\n",
       "      <td>74</td>\n",
       "      <td>Lilydale Heights College</td>\n",
       "      <td>Government</td>\n",
       "      <td>2990.908676</td>\n",
       "      <td>67</td>\n",
       "      <td>POINT (145.37181 -37.75493)</td>\n",
       "    </tr>\n",
       "    <tr>\n",
       "      <th>1</th>\n",
       "      <td>125255346</td>\n",
       "      <td>Marshall White - Stonnington</td>\n",
       "      <td>8150000</td>\n",
       "      <td>2017-05-23</td>\n",
       "      <td>7 Dunraven Avenue</td>\n",
       "      <td>3142</td>\n",
       "      <td>Toorak</td>\n",
       "      <td>-37.845278</td>\n",
       "      <td>145.014403</td>\n",
       "      <td>634</td>\n",
       "      <td>...</td>\n",
       "      <td>89</td>\n",
       "      <td>Lauriston Girls' School</td>\n",
       "      <td>Independent</td>\n",
       "      <td>1231.496278</td>\n",
       "      <td>99</td>\n",
       "      <td>St Kevin's College</td>\n",
       "      <td>Catholic</td>\n",
       "      <td>1385.246314</td>\n",
       "      <td>97</td>\n",
       "      <td>POINT (145.01440 -37.84528)</td>\n",
       "    </tr>\n",
       "  </tbody>\n",
       "</table>\n",
       "<p>2 rows × 41 columns</p>\n",
       "</div>"
      ],
      "text/plain": [
       "   ListingId                                             Agency    Price  \\\n",
       "0  125268674  First National Real Estate Mike Brown - CHIRNS...  9500000   \n",
       "1  125255346                       Marshall White - Stonnington  8150000   \n",
       "\n",
       "     DateSold      StreetAddress  Postcode  Locality   Latitude   Longitude  \\\n",
       "0  2017-06-16     111 Mangans Rd      3140  Lilydale -37.754930  145.371809   \n",
       "1  2017-05-23  7 Dunraven Avenue      3142    Toorak -37.845278  145.014403   \n",
       "\n",
       "   LandSize  ... 1SecondaryScore           2SecondaryName  2SecondarySector  \\\n",
       "0     33285  ...              79     Lilydale High School        Government   \n",
       "1       634  ...              89  Lauriston Girls' School       Independent   \n",
       "\n",
       "   2SecondaryDistance 2SecondaryScore            3SecondaryName  \\\n",
       "0         2400.727151              74  Lilydale Heights College   \n",
       "1         1231.496278              99        St Kevin's College   \n",
       "\n",
       "  3SecondarySector 3SecondaryDistance  3SecondaryScore  \\\n",
       "0       Government        2990.908676               67   \n",
       "1         Catholic        1385.246314               97   \n",
       "\n",
       "                      geometry  \n",
       "0  POINT (145.37181 -37.75493)  \n",
       "1  POINT (145.01440 -37.84528)  \n",
       "\n",
       "[2 rows x 41 columns]"
      ]
     },
     "execution_count": 28,
     "metadata": {},
     "output_type": "execute_result"
    }
   ],
   "source": [
    "gdf.head(2)"
   ]
  },
  {
   "cell_type": "code",
   "execution_count": 30,
   "id": "c5bd1433-471d-4a67-8607-3f06a62e3a92",
   "metadata": {},
   "outputs": [
    {
     "name": "stderr",
     "output_type": "stream",
     "text": [
      "/home/robin/Storage/miniconda3/envs/gcp/lib/python3.10/site-packages/geopandas/geodataframe.py:1537: UserWarning: Geometry column does not contain geometry.\n",
      "  warnings.warn(\"Geometry column does not contain geometry.\")\n"
     ]
    }
   ],
   "source": [
    "gdf['geometry'] = gdf['geometry'].to_wkt()"
   ]
  },
  {
   "cell_type": "code",
   "execution_count": 34,
   "id": "cfe6a25c-e431-496b-9234-51b847025dec",
   "metadata": {},
   "outputs": [],
   "source": [
    "type_dict = {\n",
    "    'b' : 'BOOLEAN',\n",
    "    'i' : 'INTEGER',\n",
    "    'f' : 'FLOAT',\n",
    "    'O' : 'STRING',\n",
    "    'S' : 'STRING',\n",
    "    'U' : 'STRING'\n",
    "}"
   ]
  },
  {
   "cell_type": "code",
   "execution_count": 39,
   "id": "15e39e16-e21b-4b03-8965-a8121f80df0a",
   "metadata": {},
   "outputs": [],
   "source": [
    "schema = [{'name' : col_name, 'type' : \"GEOGRAPHY\" if col_name == \"geometry\" else type_dict.get(col_type.kind, 'STRING')} for (col_name, col_type) in gdf.dtypes.items()]"
   ]
  },
  {
   "cell_type": "code",
   "execution_count": 42,
   "id": "76651da7-79b6-491e-b09d-37d492d6ab25",
   "metadata": {},
   "outputs": [],
   "source": [
    "gdf.to_gbq('melbourne_real_estate.mel_estate_data_til_2017_geo', project_id='robin-sandpit', table_schema=schema)"
   ]
  },
  {
   "cell_type": "markdown",
   "id": "81758c02-c541-4a5f-b9ad-40aaf6116913",
   "metadata": {},
   "source": [
    "### 3. Load the geoPolygon dataset"
   ]
  },
  {
   "cell_type": "code",
   "execution_count": 121,
   "id": "e9382b4c-123d-42ac-ade3-9b327cfc39cf",
   "metadata": {},
   "outputs": [],
   "source": [
    "df = pd.read_json('gs://rd_experiments/school_zone.json', storage_options={\"token\": credentials})"
   ]
  },
  {
   "cell_type": "code",
   "execution_count": 122,
   "id": "07fdb2b4-9ce6-494c-b2dc-cd63399d1da2",
   "metadata": {},
   "outputs": [],
   "source": [
    "df = pd.json_normalize(df['schools'])"
   ]
  },
  {
   "cell_type": "markdown",
   "id": "6f45d5a5-6891-4a63-a155-9eed53f54cde",
   "metadata": {},
   "source": [
    "##### 3.1 Primary schools"
   ]
  },
  {
   "cell_type": "code",
   "execution_count": 123,
   "id": "ac826360-762c-4a64-8166-a473ffcbf736",
   "metadata": {},
   "outputs": [],
   "source": [
    "def polygon(row, col_name):\n",
    "    coords = []\n",
    "    for coord in row[col_name]:\n",
    "        coords.append([coord['lng'], coord['lat']])\n",
    "    polygon = Polygon(coords)\n",
    "    \n",
    "    return polygon"
   ]
  },
  {
   "cell_type": "code",
   "execution_count": 124,
   "id": "e3e27746-2556-4c93-8439-478c3c18af7d",
   "metadata": {},
   "outputs": [
    {
     "data": {
      "text/html": [
       "<div>\n",
       "<style scoped>\n",
       "    .dataframe tbody tr th:only-of-type {\n",
       "        vertical-align: middle;\n",
       "    }\n",
       "\n",
       "    .dataframe tbody tr th {\n",
       "        vertical-align: top;\n",
       "    }\n",
       "\n",
       "    .dataframe thead th {\n",
       "        text-align: right;\n",
       "    }\n",
       "</style>\n",
       "<table border=\"1\" class=\"dataframe\">\n",
       "  <thead>\n",
       "    <tr style=\"text-align: right;\">\n",
       "      <th></th>\n",
       "      <th>id</th>\n",
       "      <th>name</th>\n",
       "      <th>gender</th>\n",
       "      <th>restrictedZone</th>\n",
       "      <th>lng</th>\n",
       "      <th>type</th>\n",
       "      <th>lat</th>\n",
       "      <th>zone</th>\n",
       "      <th>secondaryZone</th>\n",
       "      <th>girlsZone</th>\n",
       "    </tr>\n",
       "  </thead>\n",
       "  <tbody>\n",
       "    <tr>\n",
       "      <th>0</th>\n",
       "      <td>44972</td>\n",
       "      <td>Donburn Primary School</td>\n",
       "      <td>CoEd</td>\n",
       "      <td>False</td>\n",
       "      <td>145.164221</td>\n",
       "      <td>Primary</td>\n",
       "      <td>-37.787439</td>\n",
       "      <td>[{'lng': 145.1536812449949, 'lat': -37.7890853...</td>\n",
       "      <td>NaN</td>\n",
       "      <td>NaN</td>\n",
       "    </tr>\n",
       "    <tr>\n",
       "      <th>1</th>\n",
       "      <td>44971</td>\n",
       "      <td>Sherbourne Primary School</td>\n",
       "      <td>CoEd</td>\n",
       "      <td>False</td>\n",
       "      <td>145.130138</td>\n",
       "      <td>Primary</td>\n",
       "      <td>-37.709067</td>\n",
       "      <td>[{'lng': 145.13042032578937, 'lat': -37.698348...</td>\n",
       "      <td>NaN</td>\n",
       "      <td>NaN</td>\n",
       "    </tr>\n",
       "  </tbody>\n",
       "</table>\n",
       "</div>"
      ],
      "text/plain": [
       "      id                       name gender  restrictedZone         lng  \\\n",
       "0  44972     Donburn Primary School   CoEd           False  145.164221   \n",
       "1  44971  Sherbourne Primary School   CoEd           False  145.130138   \n",
       "\n",
       "      type        lat                                               zone  \\\n",
       "0  Primary -37.787439  [{'lng': 145.1536812449949, 'lat': -37.7890853...   \n",
       "1  Primary -37.709067  [{'lng': 145.13042032578937, 'lat': -37.698348...   \n",
       "\n",
       "  secondaryZone girlsZone  \n",
       "0           NaN       NaN  \n",
       "1           NaN       NaN  "
      ]
     },
     "execution_count": 124,
     "metadata": {},
     "output_type": "execute_result"
    }
   ],
   "source": [
    "df.head(2)"
   ]
  },
  {
   "cell_type": "code",
   "execution_count": 126,
   "id": "9f933814-87ff-4d9e-9893-c0007e54a79f",
   "metadata": {},
   "outputs": [],
   "source": [
    "df['zone_geo'] = df.apply(polygon, col_name='zone', axis=1)"
   ]
  },
  {
   "cell_type": "code",
   "execution_count": 127,
   "id": "fb84630f-758e-4889-93df-2d971b9895bf",
   "metadata": {},
   "outputs": [],
   "source": [
    "gdf = gpd.GeoDataFrame(df, geometry=df['zone_geo'], crs='4236')"
   ]
  },
  {
   "cell_type": "code",
   "execution_count": 128,
   "id": "adb7de96-5d8f-4ff4-a14c-d905432c45f5",
   "metadata": {},
   "outputs": [
    {
     "data": {
      "text/plain": [
       "Index(['id', 'name', 'gender', 'restrictedZone', 'lng', 'type', 'lat', 'zone',\n",
       "       'secondaryZone', 'girlsZone', 'zone_geo', 'geometry'],\n",
       "      dtype='object')"
      ]
     },
     "execution_count": 128,
     "metadata": {},
     "output_type": "execute_result"
    }
   ],
   "source": [
    "gdf.columns"
   ]
  },
  {
   "cell_type": "code",
   "execution_count": 130,
   "id": "b141d9ef-44a3-421b-bc50-d1341fb4370b",
   "metadata": {},
   "outputs": [],
   "source": [
    "gdf = gdf.drop(columns = ['secondaryZone', 'girlsZone', 'zone_geo', 'zone'])"
   ]
  },
  {
   "cell_type": "code",
   "execution_count": 131,
   "id": "d2b69c4d-066e-44a7-ad1e-c9099b7ddc13",
   "metadata": {},
   "outputs": [],
   "source": [
    "schema = [{'name' : col_name, 'type' : \"GEOGRAPHY\" if col_name == \"geometry\" else type_dict.get(col_type.kind, 'STRING')} for (col_name, col_type) in gdf.dtypes.items()]"
   ]
  },
  {
   "cell_type": "code",
   "execution_count": 133,
   "id": "9e197c61-9a74-48b1-bfa9-e9c0a59f3d79",
   "metadata": {},
   "outputs": [],
   "source": [
    "gdf.to_gbq('melbourne_real_estate.melbourne_primary_school_zones_geo', project_id='robin-sandpit', table_schema=schema)"
   ]
  },
  {
   "cell_type": "markdown",
   "id": "2d6718ff-114b-41cf-a93a-5e376f210cfa",
   "metadata": {},
   "source": [
    "##### 3.2 secondary schools"
   ]
  },
  {
   "cell_type": "code",
   "execution_count": 149,
   "id": "32cd0425-f075-420a-9e7f-e2c282403927",
   "metadata": {},
   "outputs": [],
   "source": [
    "sdf = df.loc[df['secondaryZone'].notnull()].copy()"
   ]
  },
  {
   "cell_type": "code",
   "execution_count": 150,
   "id": "ebe73ea2-69e5-4cb8-970d-92628a0f648f",
   "metadata": {},
   "outputs": [],
   "source": [
    "sdf['zone_geo'] = sdf.apply(polygon, col_name='secondaryZone', axis=1)"
   ]
  },
  {
   "cell_type": "code",
   "execution_count": 151,
   "id": "3b6b696c-1a3e-4119-bce0-714254049115",
   "metadata": {},
   "outputs": [],
   "source": [
    "gdf = gpd.GeoDataFrame(sdf, geometry=sdf['zone_geo'], crs='4236')"
   ]
  },
  {
   "cell_type": "code",
   "execution_count": 152,
   "id": "9c1f16e9-22b9-41a6-8704-850ba51ba60a",
   "metadata": {},
   "outputs": [],
   "source": [
    "gdf = gdf.drop(columns=['zone', 'secondaryZone', 'girlsZone', 'zone_geo'])"
   ]
  },
  {
   "cell_type": "code",
   "execution_count": 153,
   "id": "ddac8208-4c22-4bcf-b774-31464252abd7",
   "metadata": {},
   "outputs": [],
   "source": [
    "schema = [{'name' : col_name, 'type' : \"GEOGRAPHY\" if col_name == \"geometry\" else type_dict.get(col_type.kind, 'STRING')} for (col_name, col_type) in gdf.dtypes.items()]"
   ]
  },
  {
   "cell_type": "code",
   "execution_count": 155,
   "id": "cfe52ee6-f118-44c1-8d4d-21c7d243c436",
   "metadata": {},
   "outputs": [],
   "source": [
    "gdf.to_gbq('melbourne_real_estate.melbourne_secondary_school_zones_geo', project_id='robin-sandpit', table_schema=schema, if_exists='replace')"
   ]
  },
  {
   "cell_type": "markdown",
   "id": "c621770f-82a9-42d0-84ed-196d07bfe481",
   "metadata": {},
   "source": [
    "##### 3.3 girls schools"
   ]
  },
  {
   "cell_type": "code",
   "execution_count": 147,
   "id": "1368bb2e-9f86-49f4-bd53-0d08bc974e28",
   "metadata": {},
   "outputs": [],
   "source": [
    "girls = df.loc[df['girlsZone'].notnull()].copy()"
   ]
  },
  {
   "cell_type": "code",
   "execution_count": 148,
   "id": "0c66fc76-1a56-4e97-a1ff-c6948d65e798",
   "metadata": {},
   "outputs": [],
   "source": [
    "girls['zone_geo'] = girls.apply(polygon, col_name='girlsZone', axis=1)"
   ]
  },
  {
   "cell_type": "code",
   "execution_count": 156,
   "id": "a9e0fc7e-23a9-4978-92c6-1b3c7ea2489e",
   "metadata": {},
   "outputs": [],
   "source": [
    "gdf = gpd.GeoDataFrame(girls, geometry=girls['zone_geo'], crs='4236')"
   ]
  },
  {
   "cell_type": "code",
   "execution_count": 159,
   "id": "679aab14-ab9b-4ba7-aa1b-58b7a27dde25",
   "metadata": {},
   "outputs": [],
   "source": [
    "gdf = gdf.drop(columns=['zone', 'secondaryZone', 'girlsZone', 'zone_geo'])"
   ]
  },
  {
   "cell_type": "code",
   "execution_count": 160,
   "id": "536f2f6a-f654-4dfe-9157-329dcb25b2d5",
   "metadata": {},
   "outputs": [],
   "source": [
    "schema = [{'name' : col_name, 'type' : \"GEOGRAPHY\" if col_name == \"geometry\" else type_dict.get(col_type.kind, 'STRING')} for (col_name, col_type) in gdf.dtypes.items()]"
   ]
  },
  {
   "cell_type": "code",
   "execution_count": 161,
   "id": "4ddecbc3-e530-469c-992d-390f15edb711",
   "metadata": {},
   "outputs": [],
   "source": [
    "gdf.to_gbq('melbourne_real_estate.melbourne_girls_school_zones_geo', project_id='robin-sandpit', table_schema=schema, if_exists='replace')"
   ]
  },
  {
   "cell_type": "markdown",
   "id": "6cc0997d-8269-4f62-b408-5a4ca96c63a9",
   "metadata": {},
   "source": [
    "### 4. Upload BQ table where field data type is NUMERIC or BIGNUMERIC"
   ]
  },
  {
   "cell_type": "code",
   "execution_count": 164,
   "id": "bef7527f-24f9-4578-94cf-d8344d15b802",
   "metadata": {},
   "outputs": [],
   "source": [
    "# Convert float to decimal\n",
    "context = decimal.Context(prec=7)\n",
    "df['work'] = df['work'].apply(context.create_decimal_from_float)"
   ]
  },
  {
   "cell_type": "code",
   "execution_count": null,
   "id": "6658cf96-9d17-4174-9dcd-1cb9f96fb431",
   "metadata": {},
   "outputs": [],
   "source": []
  }
 ],
 "metadata": {
  "kernelspec": {
   "display_name": "Python 3 (ipykernel)",
   "language": "python",
   "name": "python3"
  },
  "language_info": {
   "codemirror_mode": {
    "name": "ipython",
    "version": 3
   },
   "file_extension": ".py",
   "mimetype": "text/x-python",
   "name": "python",
   "nbconvert_exporter": "python",
   "pygments_lexer": "ipython3",
   "version": "3.10.8"
  }
 },
 "nbformat": 4,
 "nbformat_minor": 5
}
